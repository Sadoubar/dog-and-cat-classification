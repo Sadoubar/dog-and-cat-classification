{
  "nbformat": 4,
  "nbformat_minor": 0,
  "metadata": {
    "colab": {
      "name": "dogs_and_cat classification.ipynb",
      "provenance": []
    },
    "kernelspec": {
      "name": "python3",
      "display_name": "Python 3"
    },
    "language_info": {
      "name": "python"
    }
  },
  "cells": [
    {
      "cell_type": "code",
      "execution_count": 3,
      "metadata": {
        "id": "mpJFLWamaSEb"
      },
      "outputs": [],
      "source": [
        "import pandas as pd\n",
        "import numpy as np\n",
        "import matplotlib.pyplot as plt\n",
        "import tensorflow\n",
        "from tensorflow.keras.layers import Dense,MaxPool2D,Dropout,Flatten\n",
        "from tensorflow.keras.preprocessing.image import ImageDataGenerator"
      ]
    },
    {
      "cell_type": "code",
      "source": [
        "tensorflow.__version__"
      ],
      "metadata": {
        "colab": {
          "base_uri": "https://localhost:8080/",
          "height": 35
        },
        "id": "UlrMbKQoaaM8",
        "outputId": "4953c2c2-219b-4727-9415-9a6f9e31a1be"
      },
      "execution_count": 4,
      "outputs": [
        {
          "output_type": "execute_result",
          "data": {
            "text/plain": [
              "'2.8.2'"
            ],
            "application/vnd.google.colaboratory.intrinsic+json": {
              "type": "string"
            }
          },
          "metadata": {},
          "execution_count": 4
        }
      ]
    },
    {
      "cell_type": "code",
      "source": [
        "! git clone https://github.com/ki-ljl/cnn-dogs-vs-cats.git # we clone the data from ki-ljl KI Hungry And Humble git up!"
      ],
      "metadata": {
        "colab": {
          "base_uri": "https://localhost:8080/"
        },
        "id": "_54dy4tIvoNV",
        "outputId": "6bc0d746-74a7-4eb5-ea7a-f9ecf8da15cb"
      },
      "execution_count": 5,
      "outputs": [
        {
          "output_type": "stream",
          "name": "stdout",
          "text": [
            "Cloning into 'cnn-dogs-vs-cats'...\n",
            "remote: Enumerating objects: 1479, done.\u001b[K\n",
            "remote: Counting objects: 100% (1479/1479), done.\u001b[K\n",
            "remote: Compressing objects: 100% (1456/1456), done.\u001b[K\n",
            "remote: Total 1479 (delta 31), reused 1458 (delta 18), pack-reused 0\u001b[K\n",
            "Receiving objects: 100% (1479/1479), 32.95 MiB | 28.24 MiB/s, done.\n",
            "Resolving deltas: 100% (31/31), done.\n"
          ]
        }
      ]
    },
    {
      "cell_type": "code",
      "source": [
        "img_with=64\n",
        "img_height=64"
      ],
      "metadata": {
        "id": "cAJkuL5Pv_Rp"
      },
      "execution_count": 7,
      "outputs": []
    },
    {
      "cell_type": "code",
      "source": [
        "train_generator=ImageDataGenerator(rescale=1/255)"
      ],
      "metadata": {
        "id": "LQr-3-prwLOh"
      },
      "execution_count": 8,
      "outputs": []
    },
    {
      "cell_type": "code",
      "source": [
        "file_train='/content/cnn-dogs-vs-cats/data/training_data'\n",
        "train_data=train_generator.flow_from_directory(directory=file_train,target_size=(img_with,img_height),batch_size=32,class_mode='binary',\n",
        "                                               seed=42)"
      ],
      "metadata": {
        "colab": {
          "base_uri": "https://localhost:8080/"
        },
        "id": "LLkhb56gwf_q",
        "outputId": "eff27d19-7884-4526-a939-d30c5aad5204"
      },
      "execution_count": 9,
      "outputs": [
        {
          "output_type": "stream",
          "name": "stdout",
          "text": [
            "Found 1000 images belonging to 2 classes.\n"
          ]
        }
      ]
    },
    {
      "cell_type": "code",
      "source": [
        "file_test='/content/cnn-dogs-vs-cats/data/testing_data'\n",
        "test_generator=train_generator.flow_from_directory(directory=file_test,target_size=(img_with,img_height),batch_size=32,class_mode='binary',\n",
        "                                                 seed=42)\n"
      ],
      "metadata": {
        "id": "aKlKn_EPd_uw",
        "colab": {
          "base_uri": "https://localhost:8080/"
        },
        "outputId": "d84c0546-287d-439b-c83d-130b6eb112aa"
      },
      "execution_count": 10,
      "outputs": [
        {
          "output_type": "stream",
          "name": "stdout",
          "text": [
            "Found 400 images belonging to 2 classes.\n"
          ]
        }
      ]
    },
    {
      "cell_type": "code",
      "source": [
        "model=tensorflow.keras.models.Sequential( [tensorflow.keras.layers.RandomFlip(\"horizontal\"),tensorflow.keras.layers.RandomRotation(0.1)])\n",
        "\n",
        "model.add(tensorflow.keras.layers.Conv2D(32,(3,3),input_shape=(img_with,img_height,3),activation='relu'))\n",
        "model.add(tensorflow.keras.layers.MaxPool2D(2,2))\n",
        "\n",
        "model.add(tensorflow.keras.layers.Conv2D(64,(3,3),input_shape=(img_with,img_height,3),activation='relu'))\n",
        "model.add(tensorflow.keras.layers.Dropout(0.33))\n",
        "model.add(tensorflow.keras.layers.MaxPool2D(2,2))\n",
        "\n",
        "model.add(tensorflow.keras.layers.Flatten())\n",
        "\n",
        "model.add(tensorflow.keras.layers.Dense(64,activation='relu'))\n",
        "model.add(tensorflow.keras.layers.Dropout(0.33))\n",
        "\n",
        "model.add(tensorflow.keras.layers.Dense(64,activation='relu'))\n",
        "model.add(tensorflow.keras.layers.Dropout(0.33))\n",
        "\n",
        "model.add(tensorflow.keras.layers.Dense(64,activation='relu'))\n",
        "model.add(tensorflow.keras.layers.Dropout(0.33))\n",
        "\n",
        "model.add(tensorflow.keras.layers.Dense(1,activation='sigmoid'))"
      ],
      "metadata": {
        "id": "GejLz-EBgHgu"
      },
      "execution_count": 11,
      "outputs": []
    },
    {
      "cell_type": "code",
      "source": [
        "model.compile(optimizer='adam',loss='binary_crossentropy',metrics=['accuracy'],)  # compile the model"
      ],
      "metadata": {
        "id": "18mVlxAmCis6"
      },
      "execution_count": 12,
      "outputs": []
    },
    {
      "cell_type": "code",
      "source": [
        "model.fit(train_data,validation_data=test_generator,epochs=100,batch_size=32)"
      ],
      "metadata": {
        "colab": {
          "base_uri": "https://localhost:8080/"
        },
        "id": "baoeI3f_DHvP",
        "outputId": "00fccaa3-08e8-4b3f-da56-87d74639d382"
      },
      "execution_count": 13,
      "outputs": [
        {
          "output_type": "stream",
          "name": "stdout",
          "text": [
            "Epoch 1/100\n",
            "32/32 [==============================] - 7s 200ms/step - loss: 0.7025 - accuracy: 0.5110 - val_loss: 0.6926 - val_accuracy: 0.5425\n",
            "Epoch 2/100\n",
            "32/32 [==============================] - 6s 193ms/step - loss: 0.6945 - accuracy: 0.5310 - val_loss: 0.6925 - val_accuracy: 0.5000\n",
            "Epoch 3/100\n",
            "32/32 [==============================] - 7s 221ms/step - loss: 0.6928 - accuracy: 0.5100 - val_loss: 0.6933 - val_accuracy: 0.5000\n",
            "Epoch 4/100\n",
            "32/32 [==============================] - 6s 190ms/step - loss: 0.6936 - accuracy: 0.5130 - val_loss: 0.6888 - val_accuracy: 0.5250\n",
            "Epoch 5/100\n",
            "32/32 [==============================] - 6s 190ms/step - loss: 0.6885 - accuracy: 0.5550 - val_loss: 0.6930 - val_accuracy: 0.5075\n",
            "Epoch 6/100\n",
            "32/32 [==============================] - 6s 190ms/step - loss: 0.6953 - accuracy: 0.4870 - val_loss: 0.6923 - val_accuracy: 0.5075\n",
            "Epoch 7/100\n",
            "32/32 [==============================] - 6s 190ms/step - loss: 0.6906 - accuracy: 0.5180 - val_loss: 0.6914 - val_accuracy: 0.5000\n",
            "Epoch 8/100\n",
            "32/32 [==============================] - 6s 189ms/step - loss: 0.6848 - accuracy: 0.5480 - val_loss: 0.6783 - val_accuracy: 0.5700\n",
            "Epoch 9/100\n",
            "32/32 [==============================] - 6s 189ms/step - loss: 0.6794 - accuracy: 0.6020 - val_loss: 0.6723 - val_accuracy: 0.5575\n",
            "Epoch 10/100\n",
            "32/32 [==============================] - 7s 226ms/step - loss: 0.6633 - accuracy: 0.6090 - val_loss: 0.6428 - val_accuracy: 0.6450\n",
            "Epoch 11/100\n",
            "32/32 [==============================] - 6s 188ms/step - loss: 0.6631 - accuracy: 0.6050 - val_loss: 0.6656 - val_accuracy: 0.6175\n",
            "Epoch 12/100\n",
            "32/32 [==============================] - 6s 188ms/step - loss: 0.6608 - accuracy: 0.6190 - val_loss: 0.6398 - val_accuracy: 0.6400\n",
            "Epoch 13/100\n",
            "32/32 [==============================] - 6s 189ms/step - loss: 0.6272 - accuracy: 0.6830 - val_loss: 0.6393 - val_accuracy: 0.6350\n",
            "Epoch 14/100\n",
            "32/32 [==============================] - 6s 189ms/step - loss: 0.6476 - accuracy: 0.6490 - val_loss: 0.6429 - val_accuracy: 0.6500\n",
            "Epoch 15/100\n",
            "32/32 [==============================] - 6s 190ms/step - loss: 0.6308 - accuracy: 0.6690 - val_loss: 0.6190 - val_accuracy: 0.6725\n",
            "Epoch 16/100\n",
            "32/32 [==============================] - 7s 229ms/step - loss: 0.6033 - accuracy: 0.6990 - val_loss: 0.6046 - val_accuracy: 0.6775\n",
            "Epoch 17/100\n",
            "32/32 [==============================] - 6s 189ms/step - loss: 0.6154 - accuracy: 0.6720 - val_loss: 0.6184 - val_accuracy: 0.6725\n",
            "Epoch 18/100\n",
            "32/32 [==============================] - 6s 191ms/step - loss: 0.5946 - accuracy: 0.6980 - val_loss: 0.6160 - val_accuracy: 0.6575\n",
            "Epoch 19/100\n",
            "32/32 [==============================] - 6s 193ms/step - loss: 0.6000 - accuracy: 0.6840 - val_loss: 0.6093 - val_accuracy: 0.6550\n",
            "Epoch 20/100\n",
            "32/32 [==============================] - 6s 188ms/step - loss: 0.5523 - accuracy: 0.7250 - val_loss: 0.6139 - val_accuracy: 0.6525\n",
            "Epoch 21/100\n",
            "32/32 [==============================] - 6s 189ms/step - loss: 0.5900 - accuracy: 0.6990 - val_loss: 0.6173 - val_accuracy: 0.6525\n",
            "Epoch 22/100\n",
            "32/32 [==============================] - 6s 188ms/step - loss: 0.5553 - accuracy: 0.7130 - val_loss: 0.6020 - val_accuracy: 0.6550\n",
            "Epoch 23/100\n",
            "32/32 [==============================] - 7s 227ms/step - loss: 0.5484 - accuracy: 0.7310 - val_loss: 0.5924 - val_accuracy: 0.6800\n",
            "Epoch 24/100\n",
            "32/32 [==============================] - 6s 194ms/step - loss: 0.5279 - accuracy: 0.7460 - val_loss: 0.5966 - val_accuracy: 0.6650\n",
            "Epoch 25/100\n",
            "32/32 [==============================] - 6s 188ms/step - loss: 0.5264 - accuracy: 0.7540 - val_loss: 0.6308 - val_accuracy: 0.6350\n",
            "Epoch 26/100\n",
            "32/32 [==============================] - 6s 189ms/step - loss: 0.5358 - accuracy: 0.7360 - val_loss: 0.6187 - val_accuracy: 0.6275\n",
            "Epoch 27/100\n",
            "32/32 [==============================] - 6s 188ms/step - loss: 0.4976 - accuracy: 0.7690 - val_loss: 0.5784 - val_accuracy: 0.6850\n",
            "Epoch 28/100\n",
            "32/32 [==============================] - 7s 204ms/step - loss: 0.4732 - accuracy: 0.7810 - val_loss: 0.5862 - val_accuracy: 0.6950\n",
            "Epoch 29/100\n",
            "32/32 [==============================] - 8s 246ms/step - loss: 0.4887 - accuracy: 0.7760 - val_loss: 0.5553 - val_accuracy: 0.6950\n",
            "Epoch 30/100\n",
            "32/32 [==============================] - 6s 187ms/step - loss: 0.4598 - accuracy: 0.7820 - val_loss: 0.5650 - val_accuracy: 0.7025\n",
            "Epoch 31/100\n",
            "32/32 [==============================] - 6s 187ms/step - loss: 0.4581 - accuracy: 0.7870 - val_loss: 0.5753 - val_accuracy: 0.7000\n",
            "Epoch 32/100\n",
            "32/32 [==============================] - 6s 188ms/step - loss: 0.4684 - accuracy: 0.7650 - val_loss: 0.5390 - val_accuracy: 0.7125\n",
            "Epoch 33/100\n",
            "32/32 [==============================] - 6s 189ms/step - loss: 0.4428 - accuracy: 0.8120 - val_loss: 0.5602 - val_accuracy: 0.6900\n",
            "Epoch 34/100\n",
            "32/32 [==============================] - 6s 187ms/step - loss: 0.4729 - accuracy: 0.7930 - val_loss: 0.5569 - val_accuracy: 0.7100\n",
            "Epoch 35/100\n",
            "32/32 [==============================] - 7s 231ms/step - loss: 0.4497 - accuracy: 0.7950 - val_loss: 0.5694 - val_accuracy: 0.7000\n",
            "Epoch 36/100\n",
            "32/32 [==============================] - 6s 189ms/step - loss: 0.4571 - accuracy: 0.7900 - val_loss: 0.5539 - val_accuracy: 0.7075\n",
            "Epoch 37/100\n",
            "32/32 [==============================] - 6s 189ms/step - loss: 0.4273 - accuracy: 0.8140 - val_loss: 0.5432 - val_accuracy: 0.7275\n",
            "Epoch 38/100\n",
            "32/32 [==============================] - 6s 189ms/step - loss: 0.4212 - accuracy: 0.8010 - val_loss: 0.5452 - val_accuracy: 0.7200\n",
            "Epoch 39/100\n",
            "32/32 [==============================] - 6s 188ms/step - loss: 0.3946 - accuracy: 0.8190 - val_loss: 0.5889 - val_accuracy: 0.7150\n",
            "Epoch 40/100\n",
            "32/32 [==============================] - 6s 188ms/step - loss: 0.4315 - accuracy: 0.8240 - val_loss: 0.5385 - val_accuracy: 0.7100\n",
            "Epoch 41/100\n",
            "32/32 [==============================] - 6s 187ms/step - loss: 0.4046 - accuracy: 0.8260 - val_loss: 0.5852 - val_accuracy: 0.6975\n",
            "Epoch 42/100\n",
            "32/32 [==============================] - 7s 226ms/step - loss: 0.4211 - accuracy: 0.8270 - val_loss: 0.5387 - val_accuracy: 0.7200\n",
            "Epoch 43/100\n",
            "32/32 [==============================] - 6s 189ms/step - loss: 0.4192 - accuracy: 0.8050 - val_loss: 0.5984 - val_accuracy: 0.6975\n",
            "Epoch 44/100\n",
            "32/32 [==============================] - 6s 188ms/step - loss: 0.3809 - accuracy: 0.8380 - val_loss: 0.5938 - val_accuracy: 0.6825\n",
            "Epoch 45/100\n",
            "32/32 [==============================] - 6s 188ms/step - loss: 0.3801 - accuracy: 0.8410 - val_loss: 0.5467 - val_accuracy: 0.7025\n",
            "Epoch 46/100\n",
            "32/32 [==============================] - 6s 188ms/step - loss: 0.3608 - accuracy: 0.8510 - val_loss: 0.6441 - val_accuracy: 0.6650\n",
            "Epoch 47/100\n",
            "32/32 [==============================] - 6s 187ms/step - loss: 0.3590 - accuracy: 0.8400 - val_loss: 0.5646 - val_accuracy: 0.7250\n",
            "Epoch 48/100\n",
            "32/32 [==============================] - 7s 225ms/step - loss: 0.3829 - accuracy: 0.8320 - val_loss: 0.5365 - val_accuracy: 0.7200\n",
            "Epoch 49/100\n",
            "32/32 [==============================] - 6s 186ms/step - loss: 0.3364 - accuracy: 0.8510 - val_loss: 0.6634 - val_accuracy: 0.6850\n",
            "Epoch 50/100\n",
            "32/32 [==============================] - 6s 187ms/step - loss: 0.3632 - accuracy: 0.8330 - val_loss: 0.6270 - val_accuracy: 0.6975\n",
            "Epoch 51/100\n",
            "32/32 [==============================] - 6s 187ms/step - loss: 0.3399 - accuracy: 0.8490 - val_loss: 0.5995 - val_accuracy: 0.6925\n",
            "Epoch 52/100\n",
            "32/32 [==============================] - 6s 186ms/step - loss: 0.3725 - accuracy: 0.8420 - val_loss: 0.5862 - val_accuracy: 0.7300\n",
            "Epoch 53/100\n",
            "32/32 [==============================] - 6s 187ms/step - loss: 0.3667 - accuracy: 0.8450 - val_loss: 0.5541 - val_accuracy: 0.7325\n",
            "Epoch 54/100\n",
            "32/32 [==============================] - 6s 186ms/step - loss: 0.3318 - accuracy: 0.8630 - val_loss: 0.6105 - val_accuracy: 0.6950\n",
            "Epoch 55/100\n",
            "32/32 [==============================] - 7s 225ms/step - loss: 0.3370 - accuracy: 0.8580 - val_loss: 0.5739 - val_accuracy: 0.7275\n",
            "Epoch 56/100\n",
            "32/32 [==============================] - 6s 186ms/step - loss: 0.3075 - accuracy: 0.8690 - val_loss: 0.5886 - val_accuracy: 0.7175\n",
            "Epoch 57/100\n",
            "32/32 [==============================] - 6s 187ms/step - loss: 0.3184 - accuracy: 0.8690 - val_loss: 0.5843 - val_accuracy: 0.7175\n",
            "Epoch 58/100\n",
            "32/32 [==============================] - 7s 226ms/step - loss: 0.3231 - accuracy: 0.8700 - val_loss: 0.6077 - val_accuracy: 0.7150\n",
            "Epoch 59/100\n",
            "32/32 [==============================] - 6s 187ms/step - loss: 0.2999 - accuracy: 0.8710 - val_loss: 0.5779 - val_accuracy: 0.7075\n",
            "Epoch 60/100\n",
            "32/32 [==============================] - 6s 186ms/step - loss: 0.2922 - accuracy: 0.8780 - val_loss: 0.6323 - val_accuracy: 0.7175\n",
            "Epoch 61/100\n",
            "32/32 [==============================] - 7s 212ms/step - loss: 0.3050 - accuracy: 0.8690 - val_loss: 0.5977 - val_accuracy: 0.7225\n",
            "Epoch 62/100\n",
            "32/32 [==============================] - 6s 189ms/step - loss: 0.3425 - accuracy: 0.8620 - val_loss: 0.5762 - val_accuracy: 0.7150\n",
            "Epoch 63/100\n",
            "32/32 [==============================] - 6s 188ms/step - loss: 0.3222 - accuracy: 0.8780 - val_loss: 0.5801 - val_accuracy: 0.7075\n",
            "Epoch 64/100\n",
            "32/32 [==============================] - 6s 188ms/step - loss: 0.2740 - accuracy: 0.9000 - val_loss: 0.6262 - val_accuracy: 0.7275\n",
            "Epoch 65/100\n",
            "32/32 [==============================] - 6s 187ms/step - loss: 0.3032 - accuracy: 0.8760 - val_loss: 0.5773 - val_accuracy: 0.7275\n",
            "Epoch 66/100\n",
            "32/32 [==============================] - 6s 190ms/step - loss: 0.2929 - accuracy: 0.8840 - val_loss: 0.6328 - val_accuracy: 0.7050\n",
            "Epoch 67/100\n",
            "32/32 [==============================] - 6s 191ms/step - loss: 0.2870 - accuracy: 0.8840 - val_loss: 0.6382 - val_accuracy: 0.7150\n",
            "Epoch 68/100\n",
            "32/32 [==============================] - 6s 192ms/step - loss: 0.2722 - accuracy: 0.8900 - val_loss: 0.6054 - val_accuracy: 0.7200\n",
            "Epoch 69/100\n",
            "32/32 [==============================] - 7s 228ms/step - loss: 0.2585 - accuracy: 0.8930 - val_loss: 0.6245 - val_accuracy: 0.7350\n",
            "Epoch 70/100\n",
            "32/32 [==============================] - 6s 188ms/step - loss: 0.2462 - accuracy: 0.9090 - val_loss: 0.5633 - val_accuracy: 0.7375\n",
            "Epoch 71/100\n",
            "32/32 [==============================] - 6s 192ms/step - loss: 0.2885 - accuracy: 0.8930 - val_loss: 0.7288 - val_accuracy: 0.7100\n",
            "Epoch 72/100\n",
            "32/32 [==============================] - 6s 189ms/step - loss: 0.2569 - accuracy: 0.8970 - val_loss: 0.6479 - val_accuracy: 0.7350\n",
            "Epoch 73/100\n",
            "32/32 [==============================] - 6s 188ms/step - loss: 0.2452 - accuracy: 0.9050 - val_loss: 0.6043 - val_accuracy: 0.7400\n",
            "Epoch 74/100\n",
            "32/32 [==============================] - 6s 188ms/step - loss: 0.2229 - accuracy: 0.9130 - val_loss: 0.6284 - val_accuracy: 0.7125\n",
            "Epoch 75/100\n",
            "32/32 [==============================] - 6s 192ms/step - loss: 0.2481 - accuracy: 0.8910 - val_loss: 0.6798 - val_accuracy: 0.7050\n",
            "Epoch 76/100\n",
            "32/32 [==============================] - 6s 188ms/step - loss: 0.2398 - accuracy: 0.9020 - val_loss: 0.6536 - val_accuracy: 0.7150\n",
            "Epoch 77/100\n",
            "32/32 [==============================] - 6s 189ms/step - loss: 0.2164 - accuracy: 0.9070 - val_loss: 0.6051 - val_accuracy: 0.7325\n",
            "Epoch 78/100\n",
            "32/32 [==============================] - 6s 187ms/step - loss: 0.2840 - accuracy: 0.8760 - val_loss: 0.6505 - val_accuracy: 0.7200\n",
            "Epoch 79/100\n",
            "32/32 [==============================] - 6s 188ms/step - loss: 0.2489 - accuracy: 0.8980 - val_loss: 0.6964 - val_accuracy: 0.7050\n",
            "Epoch 80/100\n",
            "32/32 [==============================] - 6s 188ms/step - loss: 0.2768 - accuracy: 0.8910 - val_loss: 0.6668 - val_accuracy: 0.7150\n",
            "Epoch 81/100\n",
            "32/32 [==============================] - 6s 188ms/step - loss: 0.2205 - accuracy: 0.9130 - val_loss: 0.6311 - val_accuracy: 0.7150\n",
            "Epoch 82/100\n",
            "32/32 [==============================] - 7s 227ms/step - loss: 0.2466 - accuracy: 0.8990 - val_loss: 0.6611 - val_accuracy: 0.7100\n",
            "Epoch 83/100\n",
            "32/32 [==============================] - 6s 187ms/step - loss: 0.2367 - accuracy: 0.9000 - val_loss: 0.6658 - val_accuracy: 0.7175\n",
            "Epoch 84/100\n",
            "32/32 [==============================] - 6s 187ms/step - loss: 0.2260 - accuracy: 0.9040 - val_loss: 0.7640 - val_accuracy: 0.6900\n",
            "Epoch 85/100\n",
            "32/32 [==============================] - 6s 188ms/step - loss: 0.2047 - accuracy: 0.9090 - val_loss: 0.6758 - val_accuracy: 0.7000\n",
            "Epoch 86/100\n",
            "32/32 [==============================] - 7s 223ms/step - loss: 0.1973 - accuracy: 0.9220 - val_loss: 0.7909 - val_accuracy: 0.7025\n",
            "Epoch 87/100\n",
            "32/32 [==============================] - 6s 186ms/step - loss: 0.2271 - accuracy: 0.9060 - val_loss: 0.6290 - val_accuracy: 0.7400\n",
            "Epoch 88/100\n",
            "32/32 [==============================] - 7s 220ms/step - loss: 0.2123 - accuracy: 0.9200 - val_loss: 0.7458 - val_accuracy: 0.7275\n",
            "Epoch 89/100\n",
            "32/32 [==============================] - 6s 188ms/step - loss: 0.1968 - accuracy: 0.9170 - val_loss: 0.8486 - val_accuracy: 0.7050\n",
            "Epoch 90/100\n",
            "32/32 [==============================] - 6s 188ms/step - loss: 0.2140 - accuracy: 0.9090 - val_loss: 0.7050 - val_accuracy: 0.7200\n",
            "Epoch 91/100\n",
            "32/32 [==============================] - 6s 188ms/step - loss: 0.1753 - accuracy: 0.9330 - val_loss: 0.7980 - val_accuracy: 0.7125\n",
            "Epoch 92/100\n",
            "32/32 [==============================] - 6s 187ms/step - loss: 0.1600 - accuracy: 0.9390 - val_loss: 0.7442 - val_accuracy: 0.7325\n",
            "Epoch 93/100\n",
            "32/32 [==============================] - 6s 186ms/step - loss: 0.1859 - accuracy: 0.9230 - val_loss: 0.8261 - val_accuracy: 0.7450\n",
            "Epoch 94/100\n",
            "32/32 [==============================] - 7s 211ms/step - loss: 0.1608 - accuracy: 0.9340 - val_loss: 0.8043 - val_accuracy: 0.7200\n",
            "Epoch 95/100\n",
            "32/32 [==============================] - 6s 189ms/step - loss: 0.1713 - accuracy: 0.9340 - val_loss: 0.8944 - val_accuracy: 0.6975\n",
            "Epoch 96/100\n",
            "32/32 [==============================] - 6s 188ms/step - loss: 0.2402 - accuracy: 0.9120 - val_loss: 0.6961 - val_accuracy: 0.7375\n",
            "Epoch 97/100\n",
            "32/32 [==============================] - 6s 187ms/step - loss: 0.2018 - accuracy: 0.9230 - val_loss: 0.6572 - val_accuracy: 0.7425\n",
            "Epoch 98/100\n",
            "32/32 [==============================] - 6s 187ms/step - loss: 0.1817 - accuracy: 0.9390 - val_loss: 0.6737 - val_accuracy: 0.7525\n",
            "Epoch 99/100\n",
            "32/32 [==============================] - 6s 188ms/step - loss: 0.1745 - accuracy: 0.9380 - val_loss: 0.7316 - val_accuracy: 0.7400\n",
            "Epoch 100/100\n",
            "32/32 [==============================] - 7s 226ms/step - loss: 0.1851 - accuracy: 0.9320 - val_loss: 0.7018 - val_accuracy: 0.7400\n"
          ]
        },
        {
          "output_type": "execute_result",
          "data": {
            "text/plain": [
              "<keras.callbacks.History at 0x7fe42d2c5790>"
            ]
          },
          "metadata": {},
          "execution_count": 13
        }
      ]
    },
    {
      "cell_type": "code",
      "source": [
        "model.save('dog.h5')"
      ],
      "metadata": {
        "id": "Dl6UyAfz6K-3"
      },
      "execution_count": 14,
      "outputs": []
    },
    {
      "cell_type": "code",
      "source": [
        "import numpy as np\n",
        "from tensorflow.keras.preprocessing import image"
      ],
      "metadata": {
        "id": "PD3CqZ2AvT9b"
      },
      "execution_count": 20,
      "outputs": []
    },
    {
      "cell_type": "code",
      "source": [
        "test=image.load_img('/content/temoignage-mon-chat-est-des-plus-gros-monde-prend-pour-chien.jpeg',target_size=(64,64)) ## test image from google"
      ],
      "metadata": {
        "id": "aGuCpoLC1TsS"
      },
      "execution_count": 158,
      "outputs": []
    },
    {
      "cell_type": "code",
      "source": [
        "test"
      ],
      "metadata": {
        "colab": {
          "base_uri": "https://localhost:8080/",
          "height": 81
        },
        "id": "4GkSZ-l61crA",
        "outputId": "878fd70f-467d-431c-bc3a-6f0357b6612e"
      },
      "execution_count": 159,
      "outputs": [
        {
          "output_type": "execute_result",
          "data": {
            "text/plain": [
              "<PIL.Image.Image image mode=RGB size=64x64 at 0x7FE425710650>"
            ],
            "image/png": "[encoded data removed]"
          },
          "metadata": {},
          "execution_count": 159
        }
      ]
    },
    {
      "cell_type": "code",
      "source": [
        "test=image.img_to_array(test)"
      ],
      "metadata": {
        "id": "pcRCxc2g2y9s"
      },
      "execution_count": 160,
      "outputs": []
    },
    {
      "cell_type": "code",
      "source": [
        "test.shape"
      ],
      "metadata": {
        "colab": {
          "base_uri": "https://localhost:8080/"
        },
        "id": "AIWD47dQ2_Hz",
        "outputId": "ce2c1036-7373-4bf1-c0e3-c2f3c32a65f9"
      },
      "execution_count": 161,
      "outputs": [
        {
          "output_type": "execute_result",
          "data": {
            "text/plain": [
              "(64, 64, 3)"
            ]
          },
          "metadata": {},
          "execution_count": 161
        }
      ]
    },
    {
      "cell_type": "code",
      "source": [
        "test=np.expand_dims(test,axis=0)"
      ],
      "metadata": {
        "id": "mz7rw9gc3LwX"
      },
      "execution_count": 162,
      "outputs": []
    },
    {
      "cell_type": "code",
      "source": [
        "pred=model.predict(test/255)"
      ],
      "metadata": {
        "id": "XO0LDBup4Fvz"
      },
      "execution_count": 163,
      "outputs": []
    },
    {
      "cell_type": "code",
      "source": [
        "pred"
      ],
      "metadata": {
        "colab": {
          "base_uri": "https://localhost:8080/"
        },
        "id": "nt0qqmsu4SoT",
        "outputId": "e9858259-9795-4b34-f4b8-404d46d17942"
      },
      "execution_count": 168,
      "outputs": [
        {
          "output_type": "execute_result",
          "data": {
            "text/plain": [
              "array([[0.3800282]], dtype=float32)"
            ]
          },
          "metadata": {},
          "execution_count": 168
        }
      ]
    },
    {
      "cell_type": "code",
      "source": [
        "score = pred\n",
        "print(\n",
        "    \"This image is %.2f percent cat and %.2f percent dog.\"\n",
        "    % (100 * (1 - score), 100 * score))"
      ],
      "metadata": {
        "colab": {
          "base_uri": "https://localhost:8080/"
        },
        "id": "_KWrbTQo4Mf7",
        "outputId": "53392fbf-d43a-4e8e-99ad-7bacd6e799a0"
      },
      "execution_count": 169,
      "outputs": [
        {
          "output_type": "stream",
          "name": "stdout",
          "text": [
            "This image is 62.00 percent cat and 38.00 percent dog.\n"
          ]
        }
      ]
    },
    {
      "cell_type": "code",
      "source": [
        "import os"
      ],
      "metadata": {
        "id": "QCV7ZMPs1dwS"
      },
      "execution_count": 27,
      "outputs": []
    },
    {
      "cell_type": "code",
      "source": [
        "list_chat=os.listdir('/content/cnn-dogs-vs-cats/data/testing_data/cats')"
      ],
      "metadata": {
        "id": "yO_z6wqP129m"
      },
      "execution_count": 103,
      "outputs": []
    },
    {
      "cell_type": "code",
      "source": [
        "loss=pd.DataFrame(model.history.history)\n",
        " "
      ],
      "metadata": {
        "id": "ZRKqG5aQ197v"
      },
      "execution_count": 171,
      "outputs": []
    },
    {
      "cell_type": "code",
      "source": [
        ""
      ],
      "metadata": {
        "id": "byR_2caYLJEb"
      },
      "execution_count": null,
      "outputs": []
    }
  ]
}